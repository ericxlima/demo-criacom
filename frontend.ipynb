{
  "cells": [
    {
      "cell_type": "code",
      "execution_count": null,
      "metadata": {
        "colab": {
          "base_uri": "https://localhost:8080/"
        },
        "id": "bKbjFLyu-cQ6",
        "outputId": "0f72af6f-2658-4d23-ea42-11222162dfde"
      },
      "outputs": [
        {
          "output_type": "stream",
          "name": "stdout",
          "text": [
            "Requirement already satisfied: opencv-python in /usr/local/lib/python3.10/dist-packages (4.10.0.84)\n",
            "Requirement already satisfied: pillow in /usr/local/lib/python3.10/dist-packages (11.0.0)\n",
            "Requirement already satisfied: numpy>=1.21.2 in /usr/local/lib/python3.10/dist-packages (from opencv-python) (1.26.4)\n"
          ]
        }
      ],
      "source": [
        "!pip install --upgrade opencv-python pillow\n",
        "%pip install --upgrade --quiet langchain-google-genai pillow gradio"
      ]
    },
    {
      "cell_type": "code",
      "execution_count": null,
      "metadata": {
        "id": "Pldo3OdlA6AL"
      },
      "outputs": [],
      "source": [
        "import gradio as gr\n",
        "import cv2\n",
        "import numpy as np\n",
        "from PIL import Image"
      ]
    },
    {
      "cell_type": "code",
      "source": [
        "# Função para processar a imagem capturada\n",
        "def process_image(image):\n",
        "    # Convertendo a imagem PIL para um array NumPy no formato RGB\n",
        "    image = np.array(image.convert('RGB'))\n",
        "\n",
        "    # Convertendo a imagem para escala de cinza\n",
        "    gray_image = cv2.cvtColor(image, cv2.COLOR_RGB2GRAY)\n",
        "\n",
        "    # Convertendo o array NumPy de volta para uma imagem PIL para exibição\n",
        "    pil_image = Image.fromarray(gray_image)\n",
        "\n",
        "    return pil_image"
      ],
      "metadata": {
        "id": "HrkU8T6TTGCL"
      },
      "execution_count": null,
      "outputs": []
    },
    {
      "cell_type": "code",
      "source": [
        " # verde 1eff05, laranja f98404, roxo 52057b, rosa ff0571"
      ],
      "metadata": {
        "id": "srssDu_m0bKu"
      },
      "execution_count": null,
      "outputs": []
    },
    {
      "cell_type": "code",
      "execution_count": null,
      "metadata": {
        "colab": {
          "base_uri": "https://localhost:8080/",
          "height": 1000
        },
        "id": "144-XSEuZRzk",
        "outputId": "1fd61ce7-36a0-4fc3-d25d-f5da4ab2997d"
      },
      "outputs": [
        {
          "output_type": "stream",
          "name": "stdout",
          "text": [
            "Running Gradio in a Colab notebook requires sharing enabled. Automatically setting `share=True` (you can turn this off by setting `share=False` in `launch()` explicitly).\n",
            "\n",
            "Colab notebook detected. This cell will run indefinitely so that you can see errors and logs. To turn off, set debug=False in launch().\n",
            "* Running on public URL: https://a0a7974e338de66b8f.gradio.live\n",
            "\n",
            "This share link expires in 72 hours. For free permanent hosting and GPU upgrades, run `gradio deploy` from the terminal in the working directory to deploy to Hugging Face Spaces (https://huggingface.co/spaces)\n"
          ]
        },
        {
          "output_type": "display_data",
          "data": {
            "text/plain": [
              "<IPython.core.display.HTML object>"
            ],
            "text/html": [
              "<div><iframe src=\"https://a0a7974e338de66b8f.gradio.live\" width=\"100%\" height=\"500\" allow=\"autoplay; camera; microphone; clipboard-read; clipboard-write;\" frameborder=\"0\" allowfullscreen></iframe></div>"
            ]
          },
          "metadata": {}
        },
        {
          "output_type": "stream",
          "name": "stderr",
          "text": [
            "Traceback (most recent call last):\n",
            "  File \"/usr/local/lib/python3.10/dist-packages/gradio/queueing.py\", line 624, in process_events\n",
            "    response = await route_utils.call_process_api(\n",
            "  File \"/usr/local/lib/python3.10/dist-packages/gradio/route_utils.py\", line 323, in call_process_api\n",
            "    output = await app.get_blocks().process_api(\n",
            "  File \"/usr/local/lib/python3.10/dist-packages/gradio/blocks.py\", line 2018, in process_api\n",
            "    result = await self.call_function(\n",
            "  File \"/usr/local/lib/python3.10/dist-packages/gradio/blocks.py\", line 1567, in call_function\n",
            "    prediction = await anyio.to_thread.run_sync(  # type: ignore\n",
            "  File \"/usr/local/lib/python3.10/dist-packages/anyio/to_thread.py\", line 33, in run_sync\n",
            "    return await get_asynclib().run_sync_in_worker_thread(\n",
            "  File \"/usr/local/lib/python3.10/dist-packages/anyio/_backends/_asyncio.py\", line 877, in run_sync_in_worker_thread\n",
            "    return await future\n",
            "  File \"/usr/local/lib/python3.10/dist-packages/anyio/_backends/_asyncio.py\", line 807, in run\n",
            "    result = context.run(func, *args)\n",
            "  File \"/usr/local/lib/python3.10/dist-packages/gradio/utils.py\", line 846, in wrapper\n",
            "    response = f(*args, **kwargs)\n",
            "  File \"<ipython-input-151-cb4a86f43bb1>\", line 4, in process_image\n",
            "    image = np.array(image.convert('RGB'))\n",
            "AttributeError: 'NoneType' object has no attribute 'convert'\n"
          ]
        },
        {
          "output_type": "stream",
          "name": "stdout",
          "text": [
            "Keyboard interruption in main thread... closing server.\n",
            "Killing tunnel 127.0.0.1:7860 <> https://a0a7974e338de66b8f.gradio.live\n"
          ]
        },
        {
          "output_type": "execute_result",
          "data": {
            "text/plain": []
          },
          "metadata": {},
          "execution_count": 153
        }
      ],
      "source": [
        "iface = gr.Interface(\n",
        "    fn=process_image,\n",
        "    inputs=gr.Image(type=\"pil\", label=\"Tire uma foto\"),\n",
        "    outputs=gr.Image(label=\"Imagem processada\"),\n",
        "    live=True,\n",
        "    title=\"<img src='https://i.pinimg.com/736x/36/63/81/3663814dea7fd99288c8297d4ad02d0a.jpg' alt='RECnPlay'>\",\n",
        "    css=\"\"\"\n",
        "        @import url('https://fonts.googleapis.com/css2?family=Nunito:wght@400;700&display=swap');\n",
        "\n",
        "        .gradio-container {\n",
        "            font-family: 'Nunito', sans-serif;\n",
        "            background: linear-gradient(#000000 25%, #ff0571 75%, #f98404); # verde 1eff05, laranja f98404, roxo 52057b, rosa ff0571\n",
        "            color: #ffffff;\n",
        "            text-align: center;\n",
        "        }\n",
        "        h1 {\n",
        "            width: 100%;\n",
        "            margin-top: -30px;\n",
        "            max-width: 300px;\n",
        "            display: block;\n",
        "            margin-left: auto;\n",
        "            margin-right: auto;\n",
        "        }\n",
        "    \"\"\"\n",
        ")\n",
        "\n",
        "# Inicia a interface\n",
        "iface.launch(debug=True)"
      ]
    }
  ],
  "metadata": {
    "colab": {
      "provenance": []
    },
    "kernelspec": {
      "display_name": "Python 3",
      "name": "python3"
    },
    "language_info": {
      "name": "python"
    }
  },
  "nbformat": 4,
  "nbformat_minor": 0
}